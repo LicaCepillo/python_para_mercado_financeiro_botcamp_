{
 "cells": [
  {
   "cell_type": "markdown",
   "id": "829c2a47",
   "metadata": {},
   "source": [
    "# Projeto 1- Relatório de fechamento de mercado por e-mail.\n",
    "\n",
    "Deasafio:\n",
    "\n",
    "*Redigir um email que chegue todos os dias na caixa de entrada do usuário com informações de fechamento de mercado."
   ]
  },
  {
   "cell_type": "code",
   "execution_count": 3,
   "id": "90573c33",
   "metadata": {},
   "outputs": [
    {
     "name": "stdout",
     "output_type": "stream",
     "text": [
      "Collecting yfinance==0.1.74\n",
      "  Downloading yfinance-0.1.74-py2.py3-none-any.whl (27 kB)\n",
      "Requirement already satisfied: numpy>=1.15 in c:\\users\\lilia\\anaconda3\\lib\\site-packages (from yfinance==0.1.74) (1.21.5)\n",
      "Collecting multitasking>=0.0.7\n",
      "  Downloading multitasking-0.0.11-py3-none-any.whl (8.5 kB)\n",
      "Requirement already satisfied: pandas>=0.24.0 in c:\\users\\lilia\\anaconda3\\lib\\site-packages (from yfinance==0.1.74) (1.4.2)\n",
      "Requirement already satisfied: requests>=2.26 in c:\\users\\lilia\\anaconda3\\lib\\site-packages (from yfinance==0.1.74) (2.27.1)\n",
      "Requirement already satisfied: lxml>=4.5.1 in c:\\users\\lilia\\anaconda3\\lib\\site-packages (from yfinance==0.1.74) (4.8.0)\n",
      "Requirement already satisfied: python-dateutil>=2.8.1 in c:\\users\\lilia\\anaconda3\\lib\\site-packages (from pandas>=0.24.0->yfinance==0.1.74) (2.8.2)\n",
      "Requirement already satisfied: pytz>=2020.1 in c:\\users\\lilia\\anaconda3\\lib\\site-packages (from pandas>=0.24.0->yfinance==0.1.74) (2021.3)\n",
      "Requirement already satisfied: six>=1.5 in c:\\users\\lilia\\anaconda3\\lib\\site-packages (from python-dateutil>=2.8.1->pandas>=0.24.0->yfinance==0.1.74) (1.16.0)\n",
      "Requirement already satisfied: certifi>=2017.4.17 in c:\\users\\lilia\\anaconda3\\lib\\site-packages (from requests>=2.26->yfinance==0.1.74) (2021.10.8)\n",
      "Requirement already satisfied: idna<4,>=2.5 in c:\\users\\lilia\\anaconda3\\lib\\site-packages (from requests>=2.26->yfinance==0.1.74) (3.3)\n",
      "Requirement already satisfied: charset-normalizer~=2.0.0 in c:\\users\\lilia\\anaconda3\\lib\\site-packages (from requests>=2.26->yfinance==0.1.74) (2.0.4)\n",
      "Requirement already satisfied: urllib3<1.27,>=1.21.1 in c:\\users\\lilia\\anaconda3\\lib\\site-packages (from requests>=2.26->yfinance==0.1.74) (1.26.9)\n",
      "Installing collected packages: multitasking, yfinance\n",
      "Successfully installed multitasking-0.0.11 yfinance-0.1.74\n"
     ]
    }
   ],
   "source": [
    "!pip install yfinance==0.1.74\n"
   ]
  },
  {
   "cell_type": "code",
   "execution_count": 5,
   "id": "4778bc80",
   "metadata": {},
   "outputs": [
    {
     "name": "stdout",
     "output_type": "stream",
     "text": [
      "Requirement already satisfied: pandas in c:\\users\\lilia\\anaconda3\\lib\\site-packages (1.4.2)\n",
      "Requirement already satisfied: pytz>=2020.1 in c:\\users\\lilia\\anaconda3\\lib\\site-packages (from pandas) (2021.3)\n",
      "Requirement already satisfied: python-dateutil>=2.8.1 in c:\\users\\lilia\\anaconda3\\lib\\site-packages (from pandas) (2.8.2)\n",
      "Requirement already satisfied: numpy>=1.18.5 in c:\\users\\lilia\\anaconda3\\lib\\site-packages (from pandas) (1.21.5)\n",
      "Requirement already satisfied: six>=1.5 in c:\\users\\lilia\\anaconda3\\lib\\site-packages (from python-dateutil>=2.8.1->pandas) (1.16.0)\n"
     ]
    }
   ],
   "source": [
    "!pip install pandas "
   ]
  },
  {
   "cell_type": "code",
   "execution_count": 6,
   "id": "f3b0d774",
   "metadata": {},
   "outputs": [
    {
     "name": "stdout",
     "output_type": "stream",
     "text": [
      "Collecting mplcyberpunk\n",
      "  Downloading mplcyberpunk-0.6.0-py3-none-any.whl (6.0 kB)\n",
      "Requirement already satisfied: matplotlib in c:\\users\\lilia\\anaconda3\\lib\\site-packages (from mplcyberpunk) (3.5.1)\n",
      "Requirement already satisfied: cycler>=0.10 in c:\\users\\lilia\\anaconda3\\lib\\site-packages (from matplotlib->mplcyberpunk) (0.11.0)\n",
      "Requirement already satisfied: pillow>=6.2.0 in c:\\users\\lilia\\anaconda3\\lib\\site-packages (from matplotlib->mplcyberpunk) (9.0.1)\n",
      "Requirement already satisfied: fonttools>=4.22.0 in c:\\users\\lilia\\anaconda3\\lib\\site-packages (from matplotlib->mplcyberpunk) (4.25.0)\n",
      "Requirement already satisfied: kiwisolver>=1.0.1 in c:\\users\\lilia\\anaconda3\\lib\\site-packages (from matplotlib->mplcyberpunk) (1.3.2)\n",
      "Requirement already satisfied: numpy>=1.17 in c:\\users\\lilia\\anaconda3\\lib\\site-packages (from matplotlib->mplcyberpunk) (1.21.5)\n",
      "Requirement already satisfied: pyparsing>=2.2.1 in c:\\users\\lilia\\anaconda3\\lib\\site-packages (from matplotlib->mplcyberpunk) (3.0.4)\n",
      "Requirement already satisfied: packaging>=20.0 in c:\\users\\lilia\\anaconda3\\lib\\site-packages (from matplotlib->mplcyberpunk) (21.3)\n",
      "Requirement already satisfied: python-dateutil>=2.7 in c:\\users\\lilia\\anaconda3\\lib\\site-packages (from matplotlib->mplcyberpunk) (2.8.2)\n",
      "Requirement already satisfied: six>=1.5 in c:\\users\\lilia\\anaconda3\\lib\\site-packages (from python-dateutil>=2.7->matplotlib->mplcyberpunk) (1.16.0)\n",
      "Installing collected packages: mplcyberpunk\n",
      "Successfully installed mplcyberpunk-0.6.0\n"
     ]
    }
   ],
   "source": [
    "!pip install mplcyberpunk"
   ]
  },
  {
   "cell_type": "markdown",
   "id": "415260c6",
   "metadata": {},
   "source": [
    "# Importando os módulos necessários"
   ]
  },
  {
   "cell_type": "code",
   "execution_count": 9,
   "id": "60f928db",
   "metadata": {},
   "outputs": [
    {
     "name": "stdout",
     "output_type": "stream",
     "text": [
      "Collecting python-dotenv\n",
      "  Downloading python_dotenv-1.0.0-py3-none-any.whl (19 kB)\n",
      "Installing collected packages: python-dotenv\n",
      "Successfully installed python-dotenv-1.0.0\n"
     ]
    }
   ],
   "source": [
    "!pip install python-dotenv"
   ]
  },
  {
   "cell_type": "code",
   "execution_count": 11,
   "id": "6b85bcc7",
   "metadata": {},
   "outputs": [],
   "source": [
    "import pandas as pd\n",
    "import datetime\n",
    "import yfinance as yf\n"
   ]
  },
  {
   "cell_type": "code",
   "execution_count": 13,
   "id": "37613210",
   "metadata": {},
   "outputs": [],
   "source": [
    "from matplotlib import pyplot as plt\n",
    "import mplcyberpunk\n",
    "import smtplib\n"
   ]
  },
  {
   "cell_type": "code",
   "execution_count": 16,
   "id": "f26d2668",
   "metadata": {},
   "outputs": [],
   "source": [
    "from email.message import EmailMessage"
   ]
  },
  {
   "cell_type": "markdown",
   "id": "93ad5562",
   "metadata": {},
   "source": [
    "# Pegar dados no Yahoo Finance"
   ]
  },
  {
   "cell_type": "code",
   "execution_count": 21,
   "id": "661c9201",
   "metadata": {},
   "outputs": [
    {
     "name": "stdout",
     "output_type": "stream",
     "text": [
      "[*********************100%***********************]  2 of 2 completed\n"
     ]
    },
    {
     "data": {
      "text/html": [
       "<div>\n",
       "<style scoped>\n",
       "    .dataframe tbody tr th:only-of-type {\n",
       "        vertical-align: middle;\n",
       "    }\n",
       "\n",
       "    .dataframe tbody tr th {\n",
       "        vertical-align: top;\n",
       "    }\n",
       "\n",
       "    .dataframe thead tr th {\n",
       "        text-align: left;\n",
       "    }\n",
       "\n",
       "    .dataframe thead tr:last-of-type th {\n",
       "        text-align: right;\n",
       "    }\n",
       "</style>\n",
       "<table border=\"1\" class=\"dataframe\">\n",
       "  <thead>\n",
       "    <tr>\n",
       "      <th></th>\n",
       "      <th colspan=\"2\" halign=\"left\">Adj Close</th>\n",
       "      <th colspan=\"2\" halign=\"left\">Close</th>\n",
       "      <th colspan=\"2\" halign=\"left\">High</th>\n",
       "      <th colspan=\"2\" halign=\"left\">Low</th>\n",
       "      <th colspan=\"2\" halign=\"left\">Open</th>\n",
       "      <th colspan=\"2\" halign=\"left\">Volume</th>\n",
       "    </tr>\n",
       "    <tr>\n",
       "      <th></th>\n",
       "      <th>BRL=X</th>\n",
       "      <th>^BVSP</th>\n",
       "      <th>BRL=X</th>\n",
       "      <th>^BVSP</th>\n",
       "      <th>BRL=X</th>\n",
       "      <th>^BVSP</th>\n",
       "      <th>BRL=X</th>\n",
       "      <th>^BVSP</th>\n",
       "      <th>BRL=X</th>\n",
       "      <th>^BVSP</th>\n",
       "      <th>BRL=X</th>\n",
       "      <th>^BVSP</th>\n",
       "    </tr>\n",
       "    <tr>\n",
       "      <th>Date</th>\n",
       "      <th></th>\n",
       "      <th></th>\n",
       "      <th></th>\n",
       "      <th></th>\n",
       "      <th></th>\n",
       "      <th></th>\n",
       "      <th></th>\n",
       "      <th></th>\n",
       "      <th></th>\n",
       "      <th></th>\n",
       "      <th></th>\n",
       "      <th></th>\n",
       "    </tr>\n",
       "  </thead>\n",
       "  <tbody>\n",
       "    <tr>\n",
       "      <th>2022-04-05</th>\n",
       "      <td>4.5938</td>\n",
       "      <td>118885.0</td>\n",
       "      <td>4.5938</td>\n",
       "      <td>118885.0</td>\n",
       "      <td>4.669100</td>\n",
       "      <td>121628.0</td>\n",
       "      <td>4.575500</td>\n",
       "      <td>118794.0</td>\n",
       "      <td>4.5938</td>\n",
       "      <td>121279.0</td>\n",
       "      <td>0</td>\n",
       "      <td>11788300.0</td>\n",
       "    </tr>\n",
       "    <tr>\n",
       "      <th>2022-04-06</th>\n",
       "      <td>4.6507</td>\n",
       "      <td>118228.0</td>\n",
       "      <td>4.6507</td>\n",
       "      <td>118228.0</td>\n",
       "      <td>4.712600</td>\n",
       "      <td>118885.0</td>\n",
       "      <td>4.647900</td>\n",
       "      <td>116791.0</td>\n",
       "      <td>4.6507</td>\n",
       "      <td>118885.0</td>\n",
       "      <td>0</td>\n",
       "      <td>13410800.0</td>\n",
       "    </tr>\n",
       "    <tr>\n",
       "      <th>2022-04-07</th>\n",
       "      <td>4.7152</td>\n",
       "      <td>118862.0</td>\n",
       "      <td>4.7152</td>\n",
       "      <td>118862.0</td>\n",
       "      <td>4.769900</td>\n",
       "      <td>119247.0</td>\n",
       "      <td>4.690400</td>\n",
       "      <td>117509.0</td>\n",
       "      <td>4.7152</td>\n",
       "      <td>118226.0</td>\n",
       "      <td>0</td>\n",
       "      <td>11520100.0</td>\n",
       "    </tr>\n",
       "    <tr>\n",
       "      <th>2022-04-08</th>\n",
       "      <td>4.7521</td>\n",
       "      <td>118322.0</td>\n",
       "      <td>4.7521</td>\n",
       "      <td>118322.0</td>\n",
       "      <td>4.791300</td>\n",
       "      <td>118868.0</td>\n",
       "      <td>4.707518</td>\n",
       "      <td>117487.0</td>\n",
       "      <td>4.7521</td>\n",
       "      <td>118861.0</td>\n",
       "      <td>0</td>\n",
       "      <td>11225800.0</td>\n",
       "    </tr>\n",
       "    <tr>\n",
       "      <th>2022-04-11</th>\n",
       "      <td>4.6981</td>\n",
       "      <td>116953.0</td>\n",
       "      <td>4.6981</td>\n",
       "      <td>116953.0</td>\n",
       "      <td>4.732600</td>\n",
       "      <td>118320.0</td>\n",
       "      <td>4.684016</td>\n",
       "      <td>116953.0</td>\n",
       "      <td>4.6980</td>\n",
       "      <td>118320.0</td>\n",
       "      <td>0</td>\n",
       "      <td>9558400.0</td>\n",
       "    </tr>\n",
       "    <tr>\n",
       "      <th>...</th>\n",
       "      <td>...</td>\n",
       "      <td>...</td>\n",
       "      <td>...</td>\n",
       "      <td>...</td>\n",
       "      <td>...</td>\n",
       "      <td>...</td>\n",
       "      <td>...</td>\n",
       "      <td>...</td>\n",
       "      <td>...</td>\n",
       "      <td>...</td>\n",
       "      <td>...</td>\n",
       "      <td>...</td>\n",
       "    </tr>\n",
       "    <tr>\n",
       "      <th>2023-03-30</th>\n",
       "      <td>5.1342</td>\n",
       "      <td>103713.0</td>\n",
       "      <td>5.1342</td>\n",
       "      <td>103713.0</td>\n",
       "      <td>5.155928</td>\n",
       "      <td>104085.0</td>\n",
       "      <td>5.077300</td>\n",
       "      <td>101796.0</td>\n",
       "      <td>5.1342</td>\n",
       "      <td>101796.0</td>\n",
       "      <td>0</td>\n",
       "      <td>14901600.0</td>\n",
       "    </tr>\n",
       "    <tr>\n",
       "      <th>2023-03-31</th>\n",
       "      <td>5.0927</td>\n",
       "      <td>101882.0</td>\n",
       "      <td>5.0927</td>\n",
       "      <td>101882.0</td>\n",
       "      <td>5.103300</td>\n",
       "      <td>104041.0</td>\n",
       "      <td>5.055200</td>\n",
       "      <td>101476.0</td>\n",
       "      <td>5.0927</td>\n",
       "      <td>103714.0</td>\n",
       "      <td>0</td>\n",
       "      <td>15111200.0</td>\n",
       "    </tr>\n",
       "    <tr>\n",
       "      <th>2023-04-03</th>\n",
       "      <td>5.0623</td>\n",
       "      <td>101506.0</td>\n",
       "      <td>5.0623</td>\n",
       "      <td>101506.0</td>\n",
       "      <td>5.075500</td>\n",
       "      <td>101916.0</td>\n",
       "      <td>5.036216</td>\n",
       "      <td>100651.0</td>\n",
       "      <td>5.0623</td>\n",
       "      <td>101883.0</td>\n",
       "      <td>0</td>\n",
       "      <td>12794800.0</td>\n",
       "    </tr>\n",
       "    <tr>\n",
       "      <th>2023-04-04</th>\n",
       "      <td>5.0631</td>\n",
       "      <td>101869.0</td>\n",
       "      <td>5.0631</td>\n",
       "      <td>101869.0</td>\n",
       "      <td>5.097600</td>\n",
       "      <td>103056.0</td>\n",
       "      <td>5.048277</td>\n",
       "      <td>101505.0</td>\n",
       "      <td>5.0631</td>\n",
       "      <td>101505.0</td>\n",
       "      <td>0</td>\n",
       "      <td>11695800.0</td>\n",
       "    </tr>\n",
       "    <tr>\n",
       "      <th>2023-04-05</th>\n",
       "      <td>5.0823</td>\n",
       "      <td>NaN</td>\n",
       "      <td>5.0823</td>\n",
       "      <td>NaN</td>\n",
       "      <td>5.086400</td>\n",
       "      <td>NaN</td>\n",
       "      <td>5.073100</td>\n",
       "      <td>NaN</td>\n",
       "      <td>5.0864</td>\n",
       "      <td>NaN</td>\n",
       "      <td>0</td>\n",
       "      <td>NaN</td>\n",
       "    </tr>\n",
       "  </tbody>\n",
       "</table>\n",
       "<p>262 rows × 12 columns</p>\n",
       "</div>"
      ],
      "text/plain": [
       "           Adj Close             Close                High            \\\n",
       "               BRL=X     ^BVSP   BRL=X     ^BVSP     BRL=X     ^BVSP   \n",
       "Date                                                                   \n",
       "2022-04-05    4.5938  118885.0  4.5938  118885.0  4.669100  121628.0   \n",
       "2022-04-06    4.6507  118228.0  4.6507  118228.0  4.712600  118885.0   \n",
       "2022-04-07    4.7152  118862.0  4.7152  118862.0  4.769900  119247.0   \n",
       "2022-04-08    4.7521  118322.0  4.7521  118322.0  4.791300  118868.0   \n",
       "2022-04-11    4.6981  116953.0  4.6981  116953.0  4.732600  118320.0   \n",
       "...              ...       ...     ...       ...       ...       ...   \n",
       "2023-03-30    5.1342  103713.0  5.1342  103713.0  5.155928  104085.0   \n",
       "2023-03-31    5.0927  101882.0  5.0927  101882.0  5.103300  104041.0   \n",
       "2023-04-03    5.0623  101506.0  5.0623  101506.0  5.075500  101916.0   \n",
       "2023-04-04    5.0631  101869.0  5.0631  101869.0  5.097600  103056.0   \n",
       "2023-04-05    5.0823       NaN  5.0823       NaN  5.086400       NaN   \n",
       "\n",
       "                 Low              Open           Volume              \n",
       "               BRL=X     ^BVSP   BRL=X     ^BVSP  BRL=X       ^BVSP  \n",
       "Date                                                                 \n",
       "2022-04-05  4.575500  118794.0  4.5938  121279.0      0  11788300.0  \n",
       "2022-04-06  4.647900  116791.0  4.6507  118885.0      0  13410800.0  \n",
       "2022-04-07  4.690400  117509.0  4.7152  118226.0      0  11520100.0  \n",
       "2022-04-08  4.707518  117487.0  4.7521  118861.0      0  11225800.0  \n",
       "2022-04-11  4.684016  116953.0  4.6980  118320.0      0   9558400.0  \n",
       "...              ...       ...     ...       ...    ...         ...  \n",
       "2023-03-30  5.077300  101796.0  5.1342  101796.0      0  14901600.0  \n",
       "2023-03-31  5.055200  101476.0  5.0927  103714.0      0  15111200.0  \n",
       "2023-04-03  5.036216  100651.0  5.0623  101883.0      0  12794800.0  \n",
       "2023-04-04  5.048277  101505.0  5.0631  101505.0      0  11695800.0  \n",
       "2023-04-05  5.073100       NaN  5.0864       NaN      0         NaN  \n",
       "\n",
       "[262 rows x 12 columns]"
      ]
     },
     "metadata": {},
     "output_type": "display_data"
    }
   ],
   "source": [
    "#Esolher dados no site do yahoo finance\n",
    "\n",
    "ativos = ['^BVSP','BRL=X']\n",
    "\n",
    "#Definir data\n",
    "\n",
    "hoje = datetime.datetime.now()\n",
    "um_ano_atras = hoje - datetime.timedelta(days = 365)\n",
    "\n",
    "dados_mercado = yf.download(ativos, um_ano_atras,hoje)\n",
    "\n",
    "\n",
    "display(dados_mercado)"
   ]
  },
  {
   "cell_type": "markdown",
   "id": "d95821b3",
   "metadata": {},
   "source": [
    "# Manipulação de Dados - Seleção e Exclusão de dados\n"
   ]
  },
  {
   "cell_type": "code",
   "execution_count": 28,
   "id": "22acfcbd",
   "metadata": {},
   "outputs": [
    {
     "data": {
      "text/html": [
       "<div>\n",
       "<style scoped>\n",
       "    .dataframe tbody tr th:only-of-type {\n",
       "        vertical-align: middle;\n",
       "    }\n",
       "\n",
       "    .dataframe tbody tr th {\n",
       "        vertical-align: top;\n",
       "    }\n",
       "\n",
       "    .dataframe thead th {\n",
       "        text-align: right;\n",
       "    }\n",
       "</style>\n",
       "<table border=\"1\" class=\"dataframe\">\n",
       "  <thead>\n",
       "    <tr style=\"text-align: right;\">\n",
       "      <th></th>\n",
       "      <th>Dolar</th>\n",
       "      <th>Ibovespa</th>\n",
       "    </tr>\n",
       "    <tr>\n",
       "      <th>Date</th>\n",
       "      <th></th>\n",
       "      <th></th>\n",
       "    </tr>\n",
       "  </thead>\n",
       "  <tbody>\n",
       "    <tr>\n",
       "      <th>2022-04-05</th>\n",
       "      <td>4.5938</td>\n",
       "      <td>118885.0</td>\n",
       "    </tr>\n",
       "    <tr>\n",
       "      <th>2022-04-06</th>\n",
       "      <td>4.6507</td>\n",
       "      <td>118228.0</td>\n",
       "    </tr>\n",
       "    <tr>\n",
       "      <th>2022-04-07</th>\n",
       "      <td>4.7152</td>\n",
       "      <td>118862.0</td>\n",
       "    </tr>\n",
       "    <tr>\n",
       "      <th>2022-04-08</th>\n",
       "      <td>4.7521</td>\n",
       "      <td>118322.0</td>\n",
       "    </tr>\n",
       "    <tr>\n",
       "      <th>2022-04-11</th>\n",
       "      <td>4.6981</td>\n",
       "      <td>116953.0</td>\n",
       "    </tr>\n",
       "    <tr>\n",
       "      <th>...</th>\n",
       "      <td>...</td>\n",
       "      <td>...</td>\n",
       "    </tr>\n",
       "    <tr>\n",
       "      <th>2023-03-30</th>\n",
       "      <td>5.1342</td>\n",
       "      <td>103713.0</td>\n",
       "    </tr>\n",
       "    <tr>\n",
       "      <th>2023-03-31</th>\n",
       "      <td>5.0927</td>\n",
       "      <td>101882.0</td>\n",
       "    </tr>\n",
       "    <tr>\n",
       "      <th>2023-04-03</th>\n",
       "      <td>5.0623</td>\n",
       "      <td>101506.0</td>\n",
       "    </tr>\n",
       "    <tr>\n",
       "      <th>2023-04-04</th>\n",
       "      <td>5.0631</td>\n",
       "      <td>101869.0</td>\n",
       "    </tr>\n",
       "    <tr>\n",
       "      <th>2023-04-05</th>\n",
       "      <td>5.0823</td>\n",
       "      <td>NaN</td>\n",
       "    </tr>\n",
       "  </tbody>\n",
       "</table>\n",
       "<p>262 rows × 2 columns</p>\n",
       "</div>"
      ],
      "text/plain": [
       "             Dolar  Ibovespa\n",
       "Date                        \n",
       "2022-04-05  4.5938  118885.0\n",
       "2022-04-06  4.6507  118228.0\n",
       "2022-04-07  4.7152  118862.0\n",
       "2022-04-08  4.7521  118322.0\n",
       "2022-04-11  4.6981  116953.0\n",
       "...            ...       ...\n",
       "2023-03-30  5.1342  103713.0\n",
       "2023-03-31  5.0927  101882.0\n",
       "2023-04-03  5.0623  101506.0\n",
       "2023-04-04  5.0631  101869.0\n",
       "2023-04-05  5.0823       NaN\n",
       "\n",
       "[262 rows x 2 columns]"
      ]
     },
     "execution_count": 28,
     "metadata": {},
     "output_type": "execute_result"
    }
   ],
   "source": [
    "#Criando uma tabela diária\n",
    "\n",
    "dados_fechamento = dados_mercado['Adj Close']\n",
    "\n",
    "#mudar nome da coluna\n",
    "dados_fechamento.columns = ['Dolar','Ibovespa']\n",
    "\n",
    "#remover N/A\n",
    "dados_fehamento = dados_fechamento.dropna()\n",
    "\n",
    "dados_fechamento"
   ]
  },
  {
   "cell_type": "markdown",
   "id": "7869bbed",
   "metadata": {},
   "source": [
    "# Manipulando os dados - Criando tabelas com outros timeframes"
   ]
  },
  {
   "cell_type": "code",
   "execution_count": 31,
   "id": "622429bb",
   "metadata": {},
   "outputs": [
    {
     "data": {
      "text/html": [
       "<div>\n",
       "<style scoped>\n",
       "    .dataframe tbody tr th:only-of-type {\n",
       "        vertical-align: middle;\n",
       "    }\n",
       "\n",
       "    .dataframe tbody tr th {\n",
       "        vertical-align: top;\n",
       "    }\n",
       "\n",
       "    .dataframe thead th {\n",
       "        text-align: right;\n",
       "    }\n",
       "</style>\n",
       "<table border=\"1\" class=\"dataframe\">\n",
       "  <thead>\n",
       "    <tr style=\"text-align: right;\">\n",
       "      <th></th>\n",
       "      <th>Dolar</th>\n",
       "      <th>Ibovespa</th>\n",
       "    </tr>\n",
       "    <tr>\n",
       "      <th>Date</th>\n",
       "      <th></th>\n",
       "      <th></th>\n",
       "    </tr>\n",
       "  </thead>\n",
       "  <tbody>\n",
       "    <tr>\n",
       "      <th>2022-04-30</th>\n",
       "      <td>4.9378</td>\n",
       "      <td>107876.0</td>\n",
       "    </tr>\n",
       "    <tr>\n",
       "      <th>2022-05-31</th>\n",
       "      <td>4.7524</td>\n",
       "      <td>111351.0</td>\n",
       "    </tr>\n",
       "    <tr>\n",
       "      <th>2022-06-30</th>\n",
       "      <td>5.1809</td>\n",
       "      <td>98542.0</td>\n",
       "    </tr>\n",
       "    <tr>\n",
       "      <th>2022-07-31</th>\n",
       "      <td>5.1827</td>\n",
       "      <td>103165.0</td>\n",
       "    </tr>\n",
       "    <tr>\n",
       "      <th>2022-08-31</th>\n",
       "      <td>5.1219</td>\n",
       "      <td>109523.0</td>\n",
       "    </tr>\n",
       "    <tr>\n",
       "      <th>2022-09-30</th>\n",
       "      <td>5.3962</td>\n",
       "      <td>110037.0</td>\n",
       "    </tr>\n",
       "    <tr>\n",
       "      <th>2022-10-31</th>\n",
       "      <td>5.2885</td>\n",
       "      <td>116037.0</td>\n",
       "    </tr>\n",
       "    <tr>\n",
       "      <th>2022-11-30</th>\n",
       "      <td>5.2682</td>\n",
       "      <td>112486.0</td>\n",
       "    </tr>\n",
       "    <tr>\n",
       "      <th>2022-12-31</th>\n",
       "      <td>5.2846</td>\n",
       "      <td>110031.0</td>\n",
       "    </tr>\n",
       "    <tr>\n",
       "      <th>2023-01-31</th>\n",
       "      <td>5.1149</td>\n",
       "      <td>113532.0</td>\n",
       "    </tr>\n",
       "    <tr>\n",
       "      <th>2023-02-28</th>\n",
       "      <td>5.1997</td>\n",
       "      <td>104932.0</td>\n",
       "    </tr>\n",
       "    <tr>\n",
       "      <th>2023-03-31</th>\n",
       "      <td>5.0927</td>\n",
       "      <td>101882.0</td>\n",
       "    </tr>\n",
       "    <tr>\n",
       "      <th>2023-04-30</th>\n",
       "      <td>5.0823</td>\n",
       "      <td>101869.0</td>\n",
       "    </tr>\n",
       "  </tbody>\n",
       "</table>\n",
       "</div>"
      ],
      "text/plain": [
       "             Dolar  Ibovespa\n",
       "Date                        \n",
       "2022-04-30  4.9378  107876.0\n",
       "2022-05-31  4.7524  111351.0\n",
       "2022-06-30  5.1809   98542.0\n",
       "2022-07-31  5.1827  103165.0\n",
       "2022-08-31  5.1219  109523.0\n",
       "2022-09-30  5.3962  110037.0\n",
       "2022-10-31  5.2885  116037.0\n",
       "2022-11-30  5.2682  112486.0\n",
       "2022-12-31  5.2846  110031.0\n",
       "2023-01-31  5.1149  113532.0\n",
       "2023-02-28  5.1997  104932.0\n",
       "2023-03-31  5.0927  101882.0\n",
       "2023-04-30  5.0823  101869.0"
      ]
     },
     "execution_count": 31,
     "metadata": {},
     "output_type": "execute_result"
    }
   ],
   "source": [
    "# Criando uma tabela mensal\n",
    "\n",
    "dados_fechamento_mensal = dados_fechamento.resample('M').last()\n",
    "dados_fechamento_mensal"
   ]
  },
  {
   "cell_type": "code",
   "execution_count": 30,
   "id": "1113f72f",
   "metadata": {},
   "outputs": [
    {
     "data": {
      "text/html": [
       "<div>\n",
       "<style scoped>\n",
       "    .dataframe tbody tr th:only-of-type {\n",
       "        vertical-align: middle;\n",
       "    }\n",
       "\n",
       "    .dataframe tbody tr th {\n",
       "        vertical-align: top;\n",
       "    }\n",
       "\n",
       "    .dataframe thead th {\n",
       "        text-align: right;\n",
       "    }\n",
       "</style>\n",
       "<table border=\"1\" class=\"dataframe\">\n",
       "  <thead>\n",
       "    <tr style=\"text-align: right;\">\n",
       "      <th></th>\n",
       "      <th>Dolar</th>\n",
       "      <th>Ibovespa</th>\n",
       "    </tr>\n",
       "    <tr>\n",
       "      <th>Date</th>\n",
       "      <th></th>\n",
       "      <th></th>\n",
       "    </tr>\n",
       "  </thead>\n",
       "  <tbody>\n",
       "    <tr>\n",
       "      <th>2022-12-31</th>\n",
       "      <td>5.2846</td>\n",
       "      <td>110031.0</td>\n",
       "    </tr>\n",
       "    <tr>\n",
       "      <th>2023-12-31</th>\n",
       "      <td>5.0823</td>\n",
       "      <td>101869.0</td>\n",
       "    </tr>\n",
       "  </tbody>\n",
       "</table>\n",
       "</div>"
      ],
      "text/plain": [
       "             Dolar  Ibovespa\n",
       "Date                        \n",
       "2022-12-31  5.2846  110031.0\n",
       "2023-12-31  5.0823  101869.0"
      ]
     },
     "execution_count": 30,
     "metadata": {},
     "output_type": "execute_result"
    }
   ],
   "source": [
    "# Criando uma tabela anual\n",
    "\n",
    "dados_fechamento_anual = dados_fechamento.resample('Y').last()\n",
    "dados_fechamento_anual"
   ]
  },
  {
   "cell_type": "markdown",
   "id": "7c7cb922",
   "metadata": {},
   "source": [
    "# Calcular fechamento do dia, retorno no ano e retorno no mês dos ativos"
   ]
  },
  {
   "cell_type": "code",
   "execution_count": 34,
   "id": "fb5b94c5",
   "metadata": {},
   "outputs": [
    {
     "data": {
      "text/html": [
       "<div>\n",
       "<style scoped>\n",
       "    .dataframe tbody tr th:only-of-type {\n",
       "        vertical-align: middle;\n",
       "    }\n",
       "\n",
       "    .dataframe tbody tr th {\n",
       "        vertical-align: top;\n",
       "    }\n",
       "\n",
       "    .dataframe thead th {\n",
       "        text-align: right;\n",
       "    }\n",
       "</style>\n",
       "<table border=\"1\" class=\"dataframe\">\n",
       "  <thead>\n",
       "    <tr style=\"text-align: right;\">\n",
       "      <th></th>\n",
       "      <th>Dolar</th>\n",
       "      <th>Ibovespa</th>\n",
       "    </tr>\n",
       "    <tr>\n",
       "      <th>Date</th>\n",
       "      <th></th>\n",
       "      <th></th>\n",
       "    </tr>\n",
       "  </thead>\n",
       "  <tbody>\n",
       "    <tr>\n",
       "      <th>2022-04-06</th>\n",
       "      <td>0.012386</td>\n",
       "      <td>-0.005526</td>\n",
       "    </tr>\n",
       "    <tr>\n",
       "      <th>2022-04-07</th>\n",
       "      <td>0.013869</td>\n",
       "      <td>0.005363</td>\n",
       "    </tr>\n",
       "    <tr>\n",
       "      <th>2022-04-08</th>\n",
       "      <td>0.007826</td>\n",
       "      <td>-0.004543</td>\n",
       "    </tr>\n",
       "    <tr>\n",
       "      <th>2022-04-11</th>\n",
       "      <td>-0.011363</td>\n",
       "      <td>-0.011570</td>\n",
       "    </tr>\n",
       "    <tr>\n",
       "      <th>2022-04-12</th>\n",
       "      <td>-0.000958</td>\n",
       "      <td>-0.006892</td>\n",
       "    </tr>\n",
       "    <tr>\n",
       "      <th>...</th>\n",
       "      <td>...</td>\n",
       "      <td>...</td>\n",
       "    </tr>\n",
       "    <tr>\n",
       "      <th>2023-03-30</th>\n",
       "      <td>-0.005848</td>\n",
       "      <td>0.018862</td>\n",
       "    </tr>\n",
       "    <tr>\n",
       "      <th>2023-03-31</th>\n",
       "      <td>-0.008083</td>\n",
       "      <td>-0.017654</td>\n",
       "    </tr>\n",
       "    <tr>\n",
       "      <th>2023-04-03</th>\n",
       "      <td>-0.005969</td>\n",
       "      <td>-0.003691</td>\n",
       "    </tr>\n",
       "    <tr>\n",
       "      <th>2023-04-04</th>\n",
       "      <td>0.000158</td>\n",
       "      <td>0.003576</td>\n",
       "    </tr>\n",
       "    <tr>\n",
       "      <th>2023-04-05</th>\n",
       "      <td>0.003792</td>\n",
       "      <td>0.000000</td>\n",
       "    </tr>\n",
       "  </tbody>\n",
       "</table>\n",
       "<p>261 rows × 2 columns</p>\n",
       "</div>"
      ],
      "text/plain": [
       "               Dolar  Ibovespa\n",
       "Date                          \n",
       "2022-04-06  0.012386 -0.005526\n",
       "2022-04-07  0.013869  0.005363\n",
       "2022-04-08  0.007826 -0.004543\n",
       "2022-04-11 -0.011363 -0.011570\n",
       "2022-04-12 -0.000958 -0.006892\n",
       "...              ...       ...\n",
       "2023-03-30 -0.005848  0.018862\n",
       "2023-03-31 -0.008083 -0.017654\n",
       "2023-04-03 -0.005969 -0.003691\n",
       "2023-04-04  0.000158  0.003576\n",
       "2023-04-05  0.003792  0.000000\n",
       "\n",
       "[261 rows x 2 columns]"
      ]
     },
     "execution_count": 34,
     "metadata": {},
     "output_type": "execute_result"
    }
   ],
   "source": [
    "#Calculando os retornos \n",
    "\n",
    "retorno_no_ano = dados_fechamento_anual.pct_change().dropna()\n",
    "retorno_no_mes = dados_fechamento_mensal.pct_change().dropna()\n",
    "retorno_no_dia = dados_fechamento.pct_change().dropna()\n",
    "\n",
    "retorno_no_dia"
   ]
  },
  {
   "cell_type": "markdown",
   "id": "4c99d19d",
   "metadata": {},
   "source": [
    "# Localizar o fechamento do dia anterior, retorno no mês e retorno no ano"
   ]
  },
  {
   "cell_type": "markdown",
   "id": "f2a8d5d9",
   "metadata": {},
   "source": [
    "- loc -> referenciar elementors a partir do nome\n",
    "- iloc -> selecionar elementos como uma matriz"
   ]
  },
  {
   "cell_type": "code",
   "execution_count": 51,
   "id": "14be2467",
   "metadata": {},
   "outputs": [
    {
     "data": {
      "text/plain": [
       "-0.038280967956191514"
      ]
     },
     "execution_count": 51,
     "metadata": {},
     "output_type": "execute_result"
    }
   ],
   "source": [
    "retorno_dia_dolar = retorno_no_dia.iloc[-1,0]\n",
    "retorno_dia_ibovespa = retorno_no_dia.iloc[-1,1]\n",
    "\n",
    "retorno_mes_dolar = retorno_no_mes.iloc[-1,0]\n",
    "retorno_mes_ibovespa = retorno_no_mes.iloc[-1,1]\n",
    "\n",
    "retorno_ano_dolar = retorno_no_ano.iloc[-1,0]\n",
    "retorno_ano_ibovespa = retorno_no_ano.iloc[-1,1]\n",
    "\n",
    "retorno_ano_dolar"
   ]
  },
  {
   "cell_type": "code",
   "execution_count": 53,
   "id": "8a85a301",
   "metadata": {},
   "outputs": [],
   "source": [
    "#Deixando os dados mais limpos\n",
    "\n",
    "retorno_dia_dolar = round(retorno_dia_dolar * 100,2)\n",
    "retorno_dia_ibovespa = round(retorno_dia_ibovespa * 100,2)\n",
    "\n",
    "retorno_mes_dolar = round(retorno_mes_dolar * 100,2)\n",
    "retorno_mes_ibovespa = round(retorno_mes_ibovespa * 100,2)\n",
    "\n",
    "retorno_ano_dolar = round(retorno_ano_dolar * 100,2)\n",
    "retorno_ano_ibovespa = round(retorno_ano_ibovespa * 100,2)\n"
   ]
  },
  {
   "cell_type": "code",
   "execution_count": 54,
   "id": "ecde4351",
   "metadata": {},
   "outputs": [
    {
     "data": {
      "text/plain": [
       "0.38"
      ]
     },
     "execution_count": 54,
     "metadata": {},
     "output_type": "execute_result"
    }
   ],
   "source": [
    "retorno_dia_dolar"
   ]
  },
  {
   "cell_type": "markdown",
   "id": "939002ee",
   "metadata": {},
   "source": [
    "# Fazer os gráficos da performance do último dos ativos"
   ]
  },
  {
   "cell_type": "code",
   "execution_count": 56,
   "id": "d9313288",
   "metadata": {},
   "outputs": [
    {
     "data": {
      "image/png": "[encoded data removed]",
      "text/plain": [
       "<Figure size 432x288 with 1 Axes>"
      ]
     },
     "metadata": {},
     "output_type": "display_data"
    }
   ],
   "source": [
    "#Criando grárico da Ibovespa\n",
    "\n",
    "plt.style.use('cyberpunk')\n",
    "dados_fechamento.plot(y='Ibovespa', use_index=True, legend= False)\n",
    "plt.title('Ibovespa')\n",
    "\n",
    "plt.savefig('Ibovespa.png', dpi = 300)\n",
    "plt.show()"
   ]
  },
  {
   "cell_type": "code",
   "execution_count": 57,
   "id": "874ac355",
   "metadata": {},
   "outputs": [
    {
     "data": {
      "image/png": "[encoded data removed]",
      "text/plain": [
       "<Figure size 432x288 with 1 Axes>"
      ]
     },
     "metadata": {},
     "output_type": "display_data"
    }
   ],
   "source": [
    "#Criando grárico da Ibovespa\n",
    "\n",
    "plt.style.use('cyberpunk')\n",
    "dados_fechamento.plot(y='Dolar', use_index=True, legend= False)\n",
    "plt.title('Dolar')\n",
    "\n",
    "plt.savefig('Dolar.png', dpi = 300)\n",
    "plt.show()"
   ]
  },
  {
   "cell_type": "markdown",
   "id": "b5e8f239",
   "metadata": {},
   "source": [
    "# Enviar e-mail"
   ]
  },
  {
   "cell_type": "code",
   "execution_count": 58,
   "id": "303a13c9",
   "metadata": {},
   "outputs": [],
   "source": [
    "import os\n",
    "from dotenv import load_dotenv"
   ]
  },
  {
   "cell_type": "code",
   "execution_count": 59,
   "id": "80d778cc",
   "metadata": {},
   "outputs": [
    {
     "data": {
      "text/plain": [
       "True"
      ]
     },
     "execution_count": 59,
     "metadata": {},
     "output_type": "execute_result"
    }
   ],
   "source": [
    "load_dotenv()"
   ]
  },
  {
   "cell_type": "code",
   "execution_count": 77,
   "id": "0729e47b",
   "metadata": {},
   "outputs": [],
   "source": [
    "senha = os.environ.get('senha')\n",
    "email='liliancepillo@gmail.com'\n"
   ]
  },
  {
   "cell_type": "code",
   "execution_count": 91,
   "id": "860432cc",
   "metadata": {},
   "outputs": [],
   "source": [
    "msg = EmailMessage()\n",
    "msg['Subject'] = 'Enviando e-mail com o Python'\n",
    "msg['From'] = 'liliancepillo@gmail.com'\n",
    "msg['To'] = 'liliancepillo@gmail.com'\n",
    "\n",
    "msg.set_content(f'''Prezado diretor, segue o relatório diário:\n",
    "\n",
    "Bolsa:\n",
    "\n",
    "No ano o Ibovespa está tendo uma rentabilidade de {retorno_ano_ibovespa}%, enquanto no mês a rentabilidade é de {retorno_mes_ibovespa}%.\n",
    "\n",
    "No último dia útil, o fechamento do Ibovespa foi de {retorno_dia_ibovespa}%.\n",
    "                \n",
    "\n",
    "Dolar:\n",
    "                \n",
    "No ano o Dólar está tendo uma rentabilidade de {retorno_ano_dolar}%, enquanto no mês a rentabilidade é de {retorno_mes_dolar}%.\n",
    "                \n",
    "No último dia útil, o fechamento do Dólar foi de {retorno_dia_dolar}%.\n",
    "                \n",
    "\n",
    "Melhores Cumprimentos,\n",
    "                \n",
    "\n",
    "A melhor Cientista de Dados do Mundo,\n",
    "                \n",
    "\n",
    "               \n",
    "''')"
   ]
  },
  {
   "cell_type": "code",
   "execution_count": 92,
   "id": "1307adfe",
   "metadata": {},
   "outputs": [],
   "source": [
    "with open('Dolar.png', 'rb') as content_file:\n",
    "          content = content_file.read()\n",
    "          msg.add_attachment(content, maintype ='application', subtype='png', filename ='Dolar.png')\n",
    "            \n",
    "with open('Ibovespa.png', 'rb') as content_file:\n",
    "          content = content_file.read()\n",
    "          msg.add_attachment(content, maintype ='application', subtype='png', filename ='Ibovespa.png')"
   ]
  },
  {
   "cell_type": "code",
   "execution_count": 93,
   "id": "bfc5cecb",
   "metadata": {},
   "outputs": [],
   "source": [
    "with smtplib.SMTP_SSL('smtp.gmail.com',465) as smtp:\n",
    "    \n",
    "    smtp.login(email,senha)\n",
    "    smtp.send_message(msg)"
   ]
  },
  {
   "cell_type": "code",
   "execution_count": null,
   "id": "6924cf39",
   "metadata": {},
   "outputs": [],
   "source": []
  }
 ],
 "metadata": {
  "kernelspec": {
   "display_name": "Python 3 (ipykernel)",
   "language": "python",
   "name": "python3"
  },
  "language_info": {
   "codemirror_mode": {
    "name": "ipython",
    "version": 3
   },
   "file_extension": ".py",
   "mimetype": "text/x-python",
   "name": "python",
   "nbconvert_exporter": "python",
   "pygments_lexer": "ipython3",
   "version": "3.9.12"
  }
 },
 "nbformat": 4,
 "nbformat_minor": 5
}
